{
 "cells": [
  {
   "cell_type": "code",
   "execution_count": 1,
   "metadata": {},
   "outputs": [
    {
     "name": "stdout",
     "output_type": "stream",
     "text": [
      "Jupyter environment detected. Enabling Open3D WebVisualizer.\n",
      "[Open3D INFO] WebRTC GUI backend enabled.\n",
      "[Open3D INFO] WebRTCWindowSystem: HTTP handshake server disabled.\n"
     ]
    }
   ],
   "source": [
    "import numpy as np\n",
    "import py4dgeo, laspy\n",
    "import pickle\n",
    "from tqdm import tqdm\n",
    "import os, sys\n",
    "sys.path.append('../src')\n",
    "import helper, classes, metric, statistic"
   ]
  },
  {
   "cell_type": "code",
   "execution_count": 2,
   "metadata": {},
   "outputs": [],
   "source": [
    "# _cloudcompare_param_mapping = {\n",
    "#     \"normalscale\": \"normal_radii\",\n",
    "#     \"registrationerror\": \"reg_error\",\n",
    "#     \"searchdepth\": \"max_distance\",\n",
    "#     \"searchscale\": \"cyl_radii\",\n",
    "#     \"usemedian\": \"robust_aggr\",\n",
    "# }"
   ]
  },
  {
   "attachments": {},
   "cell_type": "markdown",
   "metadata": {},
   "source": [
    "##### Create class wise point clouds "
   ]
  },
  {
   "cell_type": "code",
   "execution_count": 3,
   "metadata": {},
   "outputs": [],
   "source": [
    "synth_pc_path = '/home/Meins/Uni/TUM/SS23/Data Lab/Data Sets/Synthetic/Val_1 - Cloud.las'\n",
    "real_pc_path = '/home/Meins/Uni/TUM/SS23/Data Lab/Labelling/Label-Datasets/train/Train1 - labelled.las'"
   ]
  },
  {
   "cell_type": "code",
   "execution_count": 4,
   "metadata": {},
   "outputs": [],
   "source": [
    "real_points_all_classes, synth_points_all_classes = helper.import_and_prepare_point_clouds(real_pc_path, synth_pc_path, shift_real=True, flip_synth=True, crop=True)\n",
    "real_points_class_wise = metric.class_split_pc(real_points_all_classes, type='real')\n",
    "synth_points_class_wise = metric.class_split_pc(synth_points_all_classes, type='synth')"
   ]
  },
  {
   "attachments": {},
   "cell_type": "markdown",
   "metadata": {},
   "source": [
    "##### M3C2"
   ]
  },
  {
   "cell_type": "code",
   "execution_count": 5,
   "metadata": {},
   "outputs": [
    {
     "name": "stderr",
     "output_type": "stream",
     "text": [
      "INFO:root:\tM3C2 Splitting data\n"
     ]
    },
    {
     "ename": "TypeError",
     "evalue": "list indices must be integers or slices, not str",
     "output_type": "error",
     "traceback": [
      "\u001b[0;31m---------------------------------------------------------------------------\u001b[0m",
      "\u001b[0;31mTypeError\u001b[0m                                 Traceback (most recent call last)",
      "Cell \u001b[0;32mIn[5], line 1\u001b[0m\n\u001b[0;32m----> 1\u001b[0m distances_medians, distances_all, uncertainties_all, skipped_classes \u001b[39m=\u001b[39m metric\u001b[39m.\u001b[39;49mm3c2_class_wise(real_points_class_wise, synth_points_class_wise)\n",
      "File \u001b[0;32m/workspaces/CloudMetrics/notebooks/../src/metric.py:140\u001b[0m, in \u001b[0;36mm3c2_class_wise\u001b[0;34m(real_points_all_classes, synth_points_all_classes)\u001b[0m\n\u001b[1;32m    138\u001b[0m \u001b[39mdef\u001b[39;00m \u001b[39mm3c2_class_wise\u001b[39m(real_points_all_classes, synth_points_all_classes):    \n\u001b[1;32m    139\u001b[0m     logging\u001b[39m.\u001b[39minfo(\u001b[39m'\u001b[39m\u001b[39m\\t\u001b[39;00m\u001b[39mM3C2 Splitting data\u001b[39m\u001b[39m'\u001b[39m)\n\u001b[0;32m--> 140\u001b[0m     real_points_class_wise \u001b[39m=\u001b[39m class_split_pc(real_points_all_classes, \u001b[39mtype\u001b[39;49m\u001b[39m=\u001b[39;49m\u001b[39m'\u001b[39;49m\u001b[39mreal\u001b[39;49m\u001b[39m'\u001b[39;49m)\n\u001b[1;32m    141\u001b[0m     synth_points_class_wise \u001b[39m=\u001b[39m class_split_pc(synth_points_all_classes, \u001b[39mtype\u001b[39m\u001b[39m=\u001b[39m\u001b[39m'\u001b[39m\u001b[39msynth\u001b[39m\u001b[39m'\u001b[39m)\n\u001b[1;32m    143\u001b[0m     \u001b[39m# ensure number of point clouds/classes is the same for real and synth\u001b[39;00m\n",
      "File \u001b[0;32m/workspaces/CloudMetrics/notebooks/../src/metric.py:119\u001b[0m, in \u001b[0;36mclass_split_pc\u001b[0;34m(points_all_classes, type)\u001b[0m\n\u001b[1;32m    117\u001b[0m \u001b[39mdef\u001b[39;00m \u001b[39mclass_split_pc\u001b[39m(points_all_classes, \u001b[39mtype\u001b[39m\u001b[39m=\u001b[39m\u001b[39mNone\u001b[39;00m):\n\u001b[1;32m    118\u001b[0m     \u001b[39mif\u001b[39;00m \u001b[39mtype\u001b[39m \u001b[39m==\u001b[39m \u001b[39m'\u001b[39m\u001b[39mreal\u001b[39m\u001b[39m'\u001b[39m:\n\u001b[0;32m--> 119\u001b[0m         labels \u001b[39m=\u001b[39m points_all_classes[\u001b[39m'\u001b[39;49m\u001b[39mclassification\u001b[39;49m\u001b[39m'\u001b[39;49m]\n\u001b[1;32m    120\u001b[0m         ordered_classes_dict \u001b[39m=\u001b[39m classes\u001b[39m.\u001b[39mCLASSES_FOR_M3C2_REAL\n\u001b[1;32m    121\u001b[0m     \u001b[39melif\u001b[39;00m \u001b[39mtype\u001b[39m \u001b[39m==\u001b[39m \u001b[39m'\u001b[39m\u001b[39msynth\u001b[39m\u001b[39m'\u001b[39m:\n",
      "\u001b[0;31mTypeError\u001b[0m: list indices must be integers or slices, not str"
     ]
    }
   ],
   "source": [
    "distances_medians, distances_all, uncertainties_all, skipped_classes = metric.m3c2_class_wise(real_points_class_wise, synth_points_class_wise)"
   ]
  },
  {
   "attachments": {},
   "cell_type": "markdown",
   "metadata": {},
   "source": [
    "##### Cloud-to-Cloud"
   ]
  },
  {
   "cell_type": "code",
   "execution_count": 2,
   "metadata": {},
   "outputs": [
    {
     "ename": "NameError",
     "evalue": "name 'real_points_all_classes' is not defined",
     "output_type": "error",
     "traceback": [
      "\u001b[0;31m---------------------------------------------------------------------------\u001b[0m",
      "\u001b[0;31mNameError\u001b[0m                                 Traceback (most recent call last)",
      "Cell \u001b[0;32mIn[2], line 1\u001b[0m\n\u001b[0;32m----> 1\u001b[0m c2c_median_distance, c2c_mean_dist, c2c_stdev \u001b[39m=\u001b[39m metric\u001b[39m.\u001b[39mcloud_to_cloud_distance(real_points_all_classes, synth_points_all_classes)\n",
      "\u001b[0;31mNameError\u001b[0m: name 'real_points_all_classes' is not defined"
     ]
    }
   ],
   "source": [
    "c2c_median_distance, c2c_mean_dist, c2c_stdev = metric.cloud_to_cloud_distance(real_points_all_classes, synth_points_all_classes)"
   ]
  },
  {
   "attachments": {},
   "cell_type": "markdown",
   "metadata": {},
   "source": [
    "##### Data Set Statistics"
   ]
  },
  {
   "attachments": {},
   "cell_type": "markdown",
   "metadata": {},
   "source": [
    "How are datapoints distributed between training, validation, and test datasets?"
   ]
  },
  {
   "cell_type": "code",
   "execution_count": 3,
   "metadata": {},
   "outputs": [],
   "source": [
    "path_train_1 = '/home/Meins/Uni/TUM/SS23/Data Lab/Labelling/Label-Datasets/train/Train1 - labelled.las'\n",
    "path_train_2 = '/home/Meins/Uni/TUM/SS23/Data Lab/Labelling/Label-Datasets/train/train2-labeled.las'\n",
    "path_valid = '/home/Meins/Uni/TUM/SS23/Data Lab/Labelling/Label-Datasets/valid/validation_classified_merge_cut.las'\n",
    "#path_test = '/home/Meins/Uni/TUM/SS23/Data Lab/Labelling/Label-Datasets/test/'"
   ]
  },
  {
   "cell_type": "code",
   "execution_count": 4,
   "metadata": {},
   "outputs": [],
   "source": [
    "output = statistic.compute_data_distribution(path_train_1, path_train_1, path_valid, path_valid)"
   ]
  },
  {
   "cell_type": "code",
   "execution_count": null,
   "metadata": {},
   "outputs": [],
   "source": []
  }
 ],
 "metadata": {
  "kernelspec": {
   "display_name": "Python 3",
   "language": "python",
   "name": "python3"
  },
  "language_info": {
   "codemirror_mode": {
    "name": "ipython",
    "version": 3
   },
   "file_extension": ".py",
   "mimetype": "text/x-python",
   "name": "python",
   "nbconvert_exporter": "python",
   "pygments_lexer": "ipython3",
   "version": "3.9.17"
  },
  "orig_nbformat": 4
 },
 "nbformat": 4,
 "nbformat_minor": 2
}
