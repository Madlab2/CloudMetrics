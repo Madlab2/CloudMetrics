{
 "cells": [
  {
   "cell_type": "code",
   "execution_count": 1,
   "metadata": {},
   "outputs": [],
   "source": [
    "import numpy as np\n",
    "import py4dgeo\n",
    "import pickle\n",
    "from tqdm import tqdm\n",
    "import os, sys\n",
    "sys.path.append('../src')\n",
    "import helper, classes"
   ]
  },
  {
   "cell_type": "code",
   "execution_count": 2,
   "metadata": {},
   "outputs": [],
   "source": [
    "# _cloudcompare_param_mapping = {\n",
    "#     \"normalscale\": \"normal_radii\",\n",
    "#     \"registrationerror\": \"reg_error\",\n",
    "#     \"searchdepth\": \"max_distance\",\n",
    "#     \"searchscale\": \"cyl_radii\",\n",
    "#     \"usemedian\": \"robust_aggr\",\n",
    "# }"
   ]
  },
  {
   "attachments": {},
   "cell_type": "markdown",
   "metadata": {},
   "source": [
    "##### Create class wise point clouds "
   ]
  },
  {
   "cell_type": "code",
   "execution_count": 8,
   "metadata": {},
   "outputs": [],
   "source": [
    "def laspy_to_np_array(laspy_points):\n",
    "    x = laspy_points['x']\n",
    "    y = laspy_points['y']\n",
    "    z = laspy_points['z']\n",
    "    return np.column_stack((x, y, z))\n",
    "\n",
    "def class_split_pc(points_all_classes, type=None):\n",
    "    if type == 'real':\n",
    "        labels = points_all_classes['classification']\n",
    "        ordered_classes_dict = classes.CLASSES_FOR_M3C2_REAL\n",
    "    elif type == 'synth':\n",
    "        labels = points_all_classes.semantic_tags\n",
    "        ordered_classes_dict = classes.CLASSES_FOR_M3C2_SYNTH\n",
    "    else:\n",
    "        return\n",
    "    \n",
    "    class_wise_points = []\n",
    "    for class_number in ordered_classes_dict:\n",
    "        class_indices = np.isin(labels, class_number)\n",
    "        class_points = points_all_classes[class_indices]\n",
    "        class_points_np = laspy_to_np_array(class_points)\n",
    "        class_wise_points.append(class_points_np)\n",
    "    \n",
    "    return class_wise_points"
   ]
  },
  {
   "cell_type": "code",
   "execution_count": 4,
   "metadata": {},
   "outputs": [],
   "source": [
    "synth_pc_path = '/home/Meins/Uni/TUM/SS23/Data Lab/Data Sets/Synthetic/Val_1 - Cloud.las'\n",
    "real_pc_path = '/home/Meins/Uni/TUM/SS23/Data Lab/Labelling/Label-Datasets/train/Train1 - labelled.las'\n",
    "real_points_all_classes, synth_points_all_classes = helper.import_and_prepare_point_clouds(real_pc_path, synth_pc_path, shift_real=True, flip_synth=True, crop=True)"
   ]
  },
  {
   "cell_type": "code",
   "execution_count": 9,
   "metadata": {},
   "outputs": [],
   "source": [
    "real_points_class_wise = class_split_pc(real_points_all_classes, type='real')\n",
    "synth_points_class_wise = class_split_pc(synth_points_all_classes, type='synth')"
   ]
  },
  {
   "cell_type": "code",
   "execution_count": 13,
   "metadata": {},
   "outputs": [
    {
     "name": "stdout",
     "output_type": "stream",
     "text": [
      "[[ 4191.07568 -1297.33325   417.89731]\n",
      " [ 4191.07568 -1297.33325   417.9053 ]\n",
      " [ 4191.07568 -1297.3335    417.91559]\n",
      " ...\n",
      " [ 4160.1416  -1251.56421   422.47769]\n",
      " [ 4160.14014 -1251.5647    422.4552 ]\n",
      " [ 4159.95605 -1251.4563    422.86859]]\n"
     ]
    }
   ],
   "source": [
    "print(real_points_class_wise[4])"
   ]
  },
  {
   "cell_type": "code",
   "execution_count": null,
   "metadata": {},
   "outputs": [],
   "source": [
    "#m3c2 = py4dgeo.CloudCompareM3C2.calculate_distances(epoch1=, epoch2=)\n",
    "m3c2 = py4dgeo.M3C2(epochs=(epoch1, epoch2),\n",
    "    corepoints=corepoints,\n",
    "    cyl_radii=(2.0,),\n",
    "    normal_radii=(0.5, 1.0, 2.0)\n",
    ")"
   ]
  }
 ],
 "metadata": {
  "kernelspec": {
   "display_name": "Python 3",
   "language": "python",
   "name": "python3"
  },
  "language_info": {
   "codemirror_mode": {
    "name": "ipython",
    "version": 3
   },
   "file_extension": ".py",
   "mimetype": "text/x-python",
   "name": "python",
   "nbconvert_exporter": "python",
   "pygments_lexer": "ipython3",
   "version": "3.9.17"
  },
  "orig_nbformat": 4
 },
 "nbformat": 4,
 "nbformat_minor": 2
}
